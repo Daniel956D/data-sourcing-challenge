{
 "cells": [
  {
   "cell_type": "markdown",
   "metadata": {},
   "source": [
    "### Import Required Libraries and Set Up Environment Variables"
   ]
  },
  {
   "cell_type": "code",
   "execution_count": 52,
   "metadata": {},
   "outputs": [],
   "source": [
    "# Dependencies\n",
    "import requests\n",
    "import json\n",
    "import pandas as pd\n",
    "from datetime import datetime\n",
    "import os\n",
    "from dotenv import load_dotenv\n",
    "from prettytable import PrettyTable\n",
    "\n",
    "## Load the NASA_API_KEY from the env file\n",
    "load_dotenv()\n",
    "NASA_API_KEY = os.getenv('NASA_API_KEY')"
   ]
  },
  {
   "cell_type": "markdown",
   "metadata": {},
   "source": [
    "### CME Data"
   ]
  },
  {
   "cell_type": "code",
   "execution_count": 53,
   "metadata": {},
   "outputs": [],
   "source": [
    "# Set the base URL to NASA's DONKI API:\n",
    "base_url = \"https://api.nasa.gov/DONKI/\"\n",
    "\n",
    "# Set the specifier for CMEs:\n",
    "specifier = \"CME\"\n",
    "\n",
    "# Search for CMEs published between a begin and end date\n",
    "startDate = \"2013-05-01\"\n",
    "endDate = \"2024-05-01\"\n",
    "api_key = \"xV9MOc6zaRwpUFMt1TrYB62R6GtI5eh5WxJkJYbt\"\n",
    "\n",
    "# Build URL for CME\n",
    "query_url = f\"{base_url}{specifier}?startDate={startDate}&endDate={endDate}&api_key={api_key}\"\n"
   ]
  },
  {
   "cell_type": "code",
   "execution_count": 54,
   "metadata": {},
   "outputs": [],
   "source": [
    "# Make a \"GET\" request for the CME URL and store it in a variable named cme_response\n",
    "cme_response = requests.get(query_url)"
   ]
  },
  {
   "cell_type": "code",
   "execution_count": 55,
   "metadata": {},
   "outputs": [],
   "source": [
    "# Convert the response variable to json and store it as a variable named cme_json\n",
    "cme_json = cme_response.json()"
   ]
  },
  {
   "cell_type": "code",
   "execution_count": 56,
   "metadata": {
    "scrolled": true
   },
   "outputs": [
    {
     "name": "stdout",
     "output_type": "stream",
     "text": [
      "Preview of JSON data:\n",
      "[\n",
      "    {\n",
      "        \"activityID\": \"2013-05-01T03:12:00-CME-001\",\n",
      "        \"catalog\": \"M2M_CATALOG\",\n",
      "        \"startTime\": \"2013-05-01T03:12Z\",\n",
      "        \"instruments\": [\n",
      "            {\n",
      "                \"displayName\": \"SOHO: LASCO/C2\"\n",
      "            },\n",
      "            {\n",
      "                \"displayName\": \"SOHO: LASCO/C3\"\n",
      "            },\n",
      "            {\n",
      "                \"displayName\": \"STEREO A: SECCHI/COR2\"\n",
      "            },\n",
      "            {\n",
      "                \"displayName\": \"STEREO B: SECCHI/COR2\"\n",
      "            }\n",
      "        ],\n",
      "        \"sourceLocation\": \"\",\n",
      "        \"activeRegionNum\": null,\n",
      "        \"note\": \"\",\n",
      "        \"submissionTime\": \"2013-08-07T16:54Z\",\n",
      "        \"versionId\": 1,\n",
      "        \"link\": \"https://webtools.ccmc.gsfc.nasa.gov/DONKI/view/CME/2349/-1\",\n",
      "        \"cmeAnalyses\": [\n",
      "            {\n",
      "                \"isMostAccurate\": true,\n",
      "                \"time21_5\": \"2013-05-01T07:07Z\",\n",
      "                \"latitude\": 12.0,\n",
      "                \"longitude\": -120.0,\n",
      "                \"halfAngle\": 36.0,\n",
      "                \"speed\": 860.0,\n",
      "                \"type\": \"C\",\n",
      "                \"featureCode\": \"null\",\n",
      "                \"imageType\": null,\n",
      "                \"measurementTechnique\": \"null\",\n",
      "                \"note\": \"\",\n",
      "                \"levelOfData\": 0,\n",
      "                \"tilt\": null,\n",
      "                \"minorHalfWidth\": null,\n",
      "                \"speedMeasuredAtHeight\": null,\n",
      "                \"submissionTime\": \"2013-08-07T16:54Z\",\n",
      "                \"link\": \"https://webtools.ccmc.gsfc.nasa.gov/DONKI/view/CMEAnalysis/2350/-1\",\n",
      "                \"enlilList\": [\n",
      "                    {\n",
      "                        \"modelCompletionTime\": \"2013-05-01T08:32Z\",\n",
      "                        \"au\": 2.0,\n",
      "                        \"estimatedShockArrivalTime\": null,\n",
      "                        \"estimatedDuration\": null,\n",
      "                        \"rmin_re\": null,\n",
      "                        \"kp_18\": null,\n",
      "                        \"kp_90\": null,\n",
      "                        \"kp_135\": null,\n",
      "                        \"kp_180\": null,\n",
      "                        \"isEarthGB\": false,\n",
      "                        \"link\": \"https://webtools.ccmc.gsfc.nasa.gov/DONKI/view/WSA-ENLIL/2348/-1\",\n",
      "                        \"impactList\": [\n",
      "                            {\n",
      "                                \"isGlancingBlow\": false,\n",
      "                                \"location\": \"STEREO B\",\n",
      "                                \"arrivalTime\": \"2013-05-04T06:16Z\"\n",
      "                            }\n",
      "                        ],\n",
      "                        \"cmeIDs\": [\n",
      "                            \"2013-05-01T03:12:00-CME-001\"\n",
      "                        ]\n",
      "                    }\n",
      "                ]\n",
      "            }\n",
      "        ],\n",
      "        \"linkedEvents\": [\n",
      "            {\n",
      "                \"activityID\": \"2013-05-04T04:52:00-IPS-001\"\n",
      "            }\n",
      "        ]\n",
      "    },\n",
      "    {\n",
      "        \"activityID\": \"2013-05-02T05:24:00-CME-001\",\n",
      "        \"catalog\": \"M2M_CATALOG\",\n",
      "        \"startTime\": \"2013-05-02T05:24Z\",\n",
      "        \"instruments\": [\n",
      "            {\n",
      "                \"displayName\": \"SOHO: LASCO/C2\"\n",
      "            },\n",
      "            {\n",
      "                \"displayName\": \"SOHO: LASCO/C3\"\n",
      "            },\n",
      "            {\n",
      "                \"displayName\": \"STEREO A: SECCHI/COR2\"\n",
      "            },\n",
      "            {\n",
      "                \"displayName\": \"STEREO B: SECCHI/COR2\"\n",
      "            }\n",
      "        ],\n",
      "        \"sourceLocation\": \"\",\n",
      "        \"activeRegionNum\": null,\n",
      "        \"note\": \"\",\n",
      "        \"submissionTime\": \"2013-08-07T16:56Z\",\n",
      "        \"versionId\": 1,\n",
      "        \"link\": \"https://webtools.ccmc.gsfc.nasa.gov/DONKI/view/CME/2352/-1\",\n",
      "        \"cmeAnalyses\": [\n",
      "            {\n",
      "                \"isMostAccurate\": true,\n",
      "                \"time21_5\": \"2013-05-02T13:30Z\",\n",
      "                \"latitude\": 56.0,\n",
      "                \"longitude\": 19.0,\n",
      "                \"halfAngle\": 28.0,\n",
      "                \"speed\": 395.0,\n",
      "                \"type\": \"S\",\n",
      "                \"featureCode\": \"null\",\n",
      "                \"imageType\": null,\n",
      "                \"measurementTechnique\": \"null\",\n",
      "                \"note\": \"\",\n",
      "                \"levelOfData\": 0,\n",
      "                \"tilt\": null,\n",
      "                \"minorHalfWidth\": null,\n",
      "                \"speedMeasuredAtHeight\": null,\n",
      "                \"submissionTime\": \"2013-08-07T16:56Z\",\n",
      "                \"link\": \"https://webtools.ccmc.gsfc.nasa.gov/DONKI/view/CMEAnalysis/2353/-1\",\n",
      "                \"enlilList\": [\n",
      "                    {\n",
      "                        \"modelCompletionTime\": \"2013-05-02T09:18Z\",\n",
      "                        \"au\": 2.0,\n",
      "                        \"estimatedShockArrivalTime\": null,\n",
      "                        \"estimatedDuration\": null,\n",
      "                        \"rmin_re\": null,\n",
      "                        \"kp_18\": null,\n",
      "                        \"kp_90\": null,\n",
      "                        \"kp_135\": null,\n",
      "                        \"kp_180\": null,\n",
      "                        \"isEarthGB\": false,\n",
      "                        \"link\": \"https://webtools.ccmc.gsfc.nasa.gov/DONKI/view/WSA-ENLIL/2351/-1\",\n",
      "                        \"impactList\": null,\n",
      "                        \"cmeIDs\": [\n",
      "                            \"2013-05-02T05:24:00-CME-001\"\n",
      "                        ]\n",
      "                    }\n",
      "                ]\n",
      "            }\n",
      "        ],\n",
      "        \"linkedEvents\": null\n",
      "    }\n",
      "]\n"
     ]
    }
   ],
   "source": [
    "# Preview the first result in JSON format\n",
    "# Use json.dumps with argument indent=4 to format data\n",
    "print(\"Preview of JSON data:\")\n",
    "print(json.dumps(cme_json[:2], indent=4))"
   ]
  },
  {
   "cell_type": "code",
   "execution_count": 57,
   "metadata": {},
   "outputs": [
    {
     "name": "stdout",
     "output_type": "stream",
     "text": [
      "\n",
      "Initial DataFrame after keeping only required columns:\n",
      "                    activityID          startTime  \\\n",
      "0  2013-05-01T03:12:00-CME-001  2013-05-01T03:12Z   \n",
      "1  2013-05-02T05:24:00-CME-001  2013-05-02T05:24Z   \n",
      "2  2013-05-02T14:36:00-CME-001  2013-05-02T14:36Z   \n",
      "3  2013-05-03T18:00:00-CME-001  2013-05-03T18:00Z   \n",
      "4  2013-05-03T22:36:00-CME-001  2013-05-03T22:36Z   \n",
      "\n",
      "                                      linkedEvents  \n",
      "0  [{'activityID': '2013-05-04T04:52:00-IPS-001'}]  \n",
      "1                                             None  \n",
      "2                                             None  \n",
      "3                                             None  \n",
      "4  [{'activityID': '2013-05-07T04:37:00-IPS-001'}]  \n"
     ]
    }
   ],
   "source": [
    "# Convert cme_json to a Pandas DataFrame \n",
    "if isinstance(cme_json, list) and len(cme_json) > 0:\n",
    "    cme_df = pd.DataFrame(cme_json)\n",
    "# Keep only the columns: activityID, startTime, linkedEvents\n",
    "    required_columns = ['activityID', 'startTime', 'linkedEvents']\n",
    "    missing_columns = [col for col in required_columns if col not in cme_df.columns]\n",
    "\n",
    "    if missing_columns:\n",
    "        raise KeyError(f\"One or more required columns are missing from the data: {missing_columns}\")\n",
    "\n",
    "    cme_df = cme_df[required_columns]\n",
    "else:\n",
    "    raise ValueError(\"The response JSON is not a list or is empty\")\n",
    "\n",
    "print(\"\\nInitial DataFrame after keeping only required columns:\")\n",
    "print(cme_df.head())\n"
   ]
  },
  {
   "cell_type": "code",
   "execution_count": 58,
   "metadata": {},
   "outputs": [
    {
     "name": "stdout",
     "output_type": "stream",
     "text": [
      "\n",
      "DataFrame after dropping rows with missing 'linkedEvents':\n",
      "                     activityID          startTime  \\\n",
      "0   2013-05-01T03:12:00-CME-001  2013-05-01T03:12Z   \n",
      "4   2013-05-03T22:36:00-CME-001  2013-05-03T22:36Z   \n",
      "7   2013-05-09T19:29:00-CME-001  2013-05-09T19:29Z   \n",
      "10  2013-05-13T02:54:00-CME-001  2013-05-13T02:54Z   \n",
      "13  2013-05-13T16:18:00-CME-001  2013-05-13T16:18Z   \n",
      "\n",
      "                                         linkedEvents  \n",
      "0     [{'activityID': '2013-05-04T04:52:00-IPS-001'}]  \n",
      "4     [{'activityID': '2013-05-07T04:37:00-IPS-001'}]  \n",
      "7     [{'activityID': '2013-05-12T23:30:00-IPS-001'}]  \n",
      "10  [{'activityID': '2013-05-13T01:53:00-FLR-001'}...  \n",
      "13  [{'activityID': '2013-05-13T15:40:00-FLR-001'}...  \n"
     ]
    }
   ],
   "source": [
    "# Notice that the linkedEvents column allows us to identify the corresponding GST\n",
    "# Remove rows with missing 'linkedEvents' since we won't be able to assign these to GSTs\n",
    "cme_df = cme_df.dropna(subset=['linkedEvents'])\n",
    "\n",
    "print(\"\\nDataFrame after dropping rows with missing 'linkedEvents':\")\n",
    "print(cme_df.head())"
   ]
  },
  {
   "cell_type": "code",
   "execution_count": 59,
   "metadata": {},
   "outputs": [
    {
     "name": "stdout",
     "output_type": "stream",
     "text": [
      "\n",
      "Expanded DataFrame:\n",
      "                    activityID          startTime  \\\n",
      "0  2013-05-01T03:12:00-CME-001  2013-05-01T03:12Z   \n",
      "1  2013-05-03T22:36:00-CME-001  2013-05-03T22:36Z   \n",
      "2  2013-05-09T19:29:00-CME-001  2013-05-09T19:29Z   \n",
      "3  2013-05-13T02:54:00-CME-001  2013-05-13T02:54Z   \n",
      "4  2013-05-13T02:54:00-CME-001  2013-05-13T02:54Z   \n",
      "\n",
      "                                     linkedEvent  \n",
      "0  {'activityID': '2013-05-04T04:52:00-IPS-001'}  \n",
      "1  {'activityID': '2013-05-07T04:37:00-IPS-001'}  \n",
      "2  {'activityID': '2013-05-12T23:30:00-IPS-001'}  \n",
      "3  {'activityID': '2013-05-13T01:53:00-FLR-001'}  \n",
      "4  {'activityID': '2013-05-13T04:12:00-SEP-001'}  \n"
     ]
    }
   ],
   "source": [
    "# Notice that the linkedEvents sometimes contains multiple events per row\n",
    "# Write a nested for loop that iterates first over each row in the cme DataFrame (using the index)\n",
    "# and then iterates over the values in 'linkedEvents' \n",
    "# and adds the elements individually to a list of dictionaries where each row is one element \n",
    "\n",
    "# Initialize an empty list to store the expanded rows\n",
    "expanded_rows = []\n",
    "\n",
    "# Iterate over each index in the DataFrame\n",
    "for i in cme_df.index:\n",
    "    activity_id = cme_df.at[i, 'activityID']\n",
    "    start_time = cme_df.at[i, 'startTime']\n",
    "    linked_events = cme_df.at[i, 'linkedEvents']\n",
    "    # Iterate over each dictionary in the list\n",
    "    for item in linked_events:\n",
    "        # Append a new dictionary to the expanded_rows list for each dictionary item and corresponding 'activityID' and 'startTime' value\n",
    "      expanded_rows.append({\n",
    "         'activityID': activity_id,\n",
    "         'startTime': start_time,\n",
    "         'linkedEvent': item\n",
    "      })\n",
    "# Create a new DataFrame from the expanded rows\n",
    "expanded_df = pd.DataFrame(expanded_rows)\n",
    "\n",
    "print(\"\\nExpanded DataFrame:\")\n",
    "print(expanded_df.head())"
   ]
  },
  {
   "cell_type": "code",
   "execution_count": 60,
   "metadata": {},
   "outputs": [
    {
     "name": "stdout",
     "output_type": "stream",
     "text": [
      "\n",
      "Extracted activityID from example linkedEvent:\n",
      "2013-05-04T04:52:00-IPS-001\n"
     ]
    }
   ],
   "source": [
    "# Create a function called extract_activityID_from_dict that takes a dict as input such as in linkedEvents\n",
    "# and verify below that it works as expected using one row from linkedEvents as an example\n",
    "# Be sure to use a try and except block to handle errors\n",
    "def extract_activityID_from_dict(input_dict):\n",
    "    try:\n",
    "        # Extract the 'activity_id' key\n",
    "        return input_dict.get('activityID')\n",
    "    except (ValueError, TypeError) as e:\n",
    "        # Log the error or print it for debugging\n",
    "        print(f\"Error extracting activityID: {e}\")\n",
    "        return None\n",
    "    \n",
    "# Verification that it works\n",
    "if not cme_df.empty:\n",
    "    example_linked_event = cme_df.at[0, 'linkedEvents'][0]\n",
    "    print(\"\\nExtracted activityID from example linkedEvent:\")\n",
    "    print(extract_activityID_from_dict(example_linked_event))\n",
    "\n"
   ]
  },
  {
   "cell_type": "code",
   "execution_count": 61,
   "metadata": {},
   "outputs": [
    {
     "name": "stdout",
     "output_type": "stream",
     "text": [
      "\n",
      "DataFrame after applying extract_activityID_from_dict to linkedEvent:\n",
      "                    activityID          startTime  \\\n",
      "0  2013-05-01T03:12:00-CME-001  2013-05-01T03:12Z   \n",
      "1  2013-05-03T22:36:00-CME-001  2013-05-03T22:36Z   \n",
      "2  2013-05-09T19:29:00-CME-001  2013-05-09T19:29Z   \n",
      "3  2013-05-13T02:54:00-CME-001  2013-05-13T02:54Z   \n",
      "4  2013-05-13T02:54:00-CME-001  2013-05-13T02:54Z   \n",
      "\n",
      "                                     linkedEvent               GST_ActivityID  \n",
      "0  {'activityID': '2013-05-04T04:52:00-IPS-001'}  2013-05-04T04:52:00-IPS-001  \n",
      "1  {'activityID': '2013-05-07T04:37:00-IPS-001'}  2013-05-07T04:37:00-IPS-001  \n",
      "2  {'activityID': '2013-05-12T23:30:00-IPS-001'}  2013-05-12T23:30:00-IPS-001  \n",
      "3  {'activityID': '2013-05-13T01:53:00-FLR-001'}  2013-05-13T01:53:00-FLR-001  \n",
      "4  {'activityID': '2013-05-13T04:12:00-SEP-001'}  2013-05-13T04:12:00-SEP-001  \n"
     ]
    }
   ],
   "source": [
    "# Apply this function to each row in the 'linkedEvents' column (you can use apply() and a lambda function)\n",
    "# and create a new column called 'GST_ActivityID' using loc indexer:\n",
    "expanded_df['GST_ActivityID'] = expanded_df['linkedEvent'].apply(lambda x: extract_activityID_from_dict(x))\n",
    "\n",
    "print(\"\\nDataFrame after applying extract_activityID_from_dict to linkedEvent:\")\n",
    "print(expanded_df.head())"
   ]
  },
  {
   "cell_type": "code",
   "execution_count": 62,
   "metadata": {},
   "outputs": [
    {
     "name": "stdout",
     "output_type": "stream",
     "text": [
      "\n",
      "DataFrame after dropping rows with missing 'GST_ActivityID':\n",
      "                    activityID          startTime  \\\n",
      "0  2013-05-01T03:12:00-CME-001  2013-05-01T03:12Z   \n",
      "1  2013-05-03T22:36:00-CME-001  2013-05-03T22:36Z   \n",
      "2  2013-05-09T19:29:00-CME-001  2013-05-09T19:29Z   \n",
      "3  2013-05-13T02:54:00-CME-001  2013-05-13T02:54Z   \n",
      "4  2013-05-13T02:54:00-CME-001  2013-05-13T02:54Z   \n",
      "\n",
      "                                     linkedEvent               GST_ActivityID  \n",
      "0  {'activityID': '2013-05-04T04:52:00-IPS-001'}  2013-05-04T04:52:00-IPS-001  \n",
      "1  {'activityID': '2013-05-07T04:37:00-IPS-001'}  2013-05-07T04:37:00-IPS-001  \n",
      "2  {'activityID': '2013-05-12T23:30:00-IPS-001'}  2013-05-12T23:30:00-IPS-001  \n",
      "3  {'activityID': '2013-05-13T01:53:00-FLR-001'}  2013-05-13T01:53:00-FLR-001  \n",
      "4  {'activityID': '2013-05-13T04:12:00-SEP-001'}  2013-05-13T04:12:00-SEP-001  \n"
     ]
    }
   ],
   "source": [
    "# Remove rows with missing GST_ActivityID, since we can't assign them to GSTs:\n",
    "expanded_df = expanded_df.dropna(subset=['GST_ActivityID'])\n",
    "\n",
    "print(\"\\nDataFrame after dropping rows with missing 'GST_ActivityID':\")\n",
    "print(expanded_df.head())"
   ]
  },
  {
   "cell_type": "code",
   "execution_count": 63,
   "metadata": {},
   "outputs": [
    {
     "name": "stdout",
     "output_type": "stream",
     "text": [
      "activityID        object\n",
      "startTime         object\n",
      "linkedEvent       object\n",
      "GST_ActivityID    object\n",
      "dtype: object\n"
     ]
    }
   ],
   "source": [
    "# print out the datatype of each column in this DataFrame:\n",
    "print(expanded_df.dtypes)"
   ]
  },
  {
   "cell_type": "code",
   "execution_count": 64,
   "metadata": {},
   "outputs": [
    {
     "name": "stdout",
     "output_type": "stream",
     "text": [
      "                         cmeID             startTime_CME  \\\n",
      "0  2013-05-01T03:12:00-CME-001 2013-05-01 03:12:00+00:00   \n",
      "1  2013-05-03T22:36:00-CME-001 2013-05-03 22:36:00+00:00   \n",
      "2  2013-05-09T19:29:00-CME-001 2013-05-09 19:29:00+00:00   \n",
      "3  2013-05-13T02:54:00-CME-001 2013-05-13 02:54:00+00:00   \n",
      "4  2013-05-13T02:54:00-CME-001 2013-05-13 02:54:00+00:00   \n",
      "\n",
      "                GST_ActivityID  \n",
      "0  2013-05-04T04:52:00-IPS-001  \n",
      "1  2013-05-07T04:37:00-IPS-001  \n",
      "2  2013-05-12T23:30:00-IPS-001  \n",
      "3  2013-05-13T01:53:00-FLR-001  \n",
      "4  2013-05-13T04:12:00-SEP-001  \n",
      "cmeID                          object\n",
      "startTime_CME     datetime64[ns, UTC]\n",
      "GST_ActivityID                 object\n",
      "dtype: object\n",
      "\n",
      "DataFrame after converting types, renaming columns, and dropping 'linkedEvents':\n",
      "                         cmeID             startTime_CME  \\\n",
      "0  2013-05-01T03:12:00-CME-001 2013-05-01 03:12:00+00:00   \n",
      "1  2013-05-03T22:36:00-CME-001 2013-05-03 22:36:00+00:00   \n",
      "2  2013-05-09T19:29:00-CME-001 2013-05-09 19:29:00+00:00   \n",
      "3  2013-05-13T02:54:00-CME-001 2013-05-13 02:54:00+00:00   \n",
      "4  2013-05-13T02:54:00-CME-001 2013-05-13 02:54:00+00:00   \n",
      "\n",
      "                GST_ActivityID  \n",
      "0  2013-05-04T04:52:00-IPS-001  \n",
      "1  2013-05-07T04:37:00-IPS-001  \n",
      "2  2013-05-12T23:30:00-IPS-001  \n",
      "3  2013-05-13T01:53:00-FLR-001  \n",
      "4  2013-05-13T04:12:00-SEP-001  \n"
     ]
    }
   ],
   "source": [
    "# Convert the 'GST_ActivityID' column to string format \n",
    "expanded_df['GST_ActivityID'] = expanded_df['GST_ActivityID'].astype(str)\n",
    "# Convert startTime to datetime format  \n",
    "expanded_df['startTime'] = pd.to_datetime(expanded_df['startTime'])\n",
    "# Rename startTime to startTime_CME and activityID to cmeID\n",
    "expanded_df.rename(columns={'startTime': 'startTime_CME', 'activityID': 'cmeID'}, inplace=True)\n",
    "# Drop linkedEvents\n",
    "expanded_df = expanded_df.drop(columns=['linkedEvent'])\n",
    "# Verify that all steps were executed correctly\n",
    "print(expanded_df.head())\n",
    "print(expanded_df.dtypes)\n",
    "print(\"\\nDataFrame after converting types, renaming columns, and dropping 'linkedEvents':\")\n",
    "print(expanded_df.head())"
   ]
  },
  {
   "cell_type": "code",
   "execution_count": 65,
   "metadata": {},
   "outputs": [
    {
     "name": "stdout",
     "output_type": "stream",
     "text": [
      "\n",
      "Filtered DataFrame containing only rows where 'GST_ActivityID' contains 'GST':\n",
      "                           cmeID             startTime_CME  \\\n",
      "21   2013-06-02T20:24:00-CME-001 2013-06-02 20:24:00+00:00   \n",
      "48   2013-09-29T22:40:00-CME-001 2013-09-29 22:40:00+00:00   \n",
      "90   2013-12-04T23:12:00-CME-001 2013-12-04 23:12:00+00:00   \n",
      "148  2014-02-16T14:15:00-CME-001 2014-02-16 14:15:00+00:00   \n",
      "151  2014-02-18T01:25:00-CME-001 2014-02-18 01:25:00+00:00   \n",
      "\n",
      "                  GST_ActivityID  \n",
      "21   2013-06-07T03:00:00-GST-001  \n",
      "48   2013-10-02T03:00:00-GST-001  \n",
      "90   2013-12-08T00:00:00-GST-001  \n",
      "148  2014-02-19T03:00:00-GST-001  \n",
      "151  2014-02-20T03:00:00-GST-001  \n"
     ]
    }
   ],
   "source": [
    "# We are only interested in CMEs related to GSTs so keep only rows where the GST_ActivityID column contains 'GST'\n",
    "# use the method 'contains()' from the str library.  \n",
    "expanded_df = expanded_df[expanded_df['GST_ActivityID'].str.contains('GST')]\n",
    "\n",
    "print(\"\\nFiltered DataFrame containing only rows where 'GST_ActivityID' contains 'GST':\")\n",
    "print(expanded_df.head())\n"
   ]
  },
  {
   "cell_type": "code",
   "execution_count": 66,
   "metadata": {},
   "outputs": [
    {
     "name": "stdout",
     "output_type": "stream",
     "text": [
      "\n",
      "Filtered DataFrame containing only rows where 'GST_ActivityID' contains 'GST':\n",
      "+-----------------------------+---------------------------+-----------------------------+\n",
      "|            cmeID            |       startTime_CME       |        GST_ActivityID       |\n",
      "+-----------------------------+---------------------------+-----------------------------+\n",
      "| 2013-06-02T20:24:00-CME-001 | 2013-06-02 20:24:00+00:00 | 2013-06-07T03:00:00-GST-001 |\n",
      "| 2013-09-29T22:40:00-CME-001 | 2013-09-29 22:40:00+00:00 | 2013-10-02T03:00:00-GST-001 |\n",
      "| 2013-12-04T23:12:00-CME-001 | 2013-12-04 23:12:00+00:00 | 2013-12-08T00:00:00-GST-001 |\n",
      "| 2014-02-16T14:15:00-CME-001 | 2014-02-16 14:15:00+00:00 | 2014-02-19T03:00:00-GST-001 |\n",
      "| 2014-02-18T01:25:00-CME-001 | 2014-02-18 01:25:00+00:00 | 2014-02-20T03:00:00-GST-001 |\n",
      "+-----------------------------+---------------------------+-----------------------------+\n"
     ]
    }
   ],
   "source": [
    "# Pretty Table utilization for better view of data. \n",
    "print(\"\\nFiltered DataFrame containing only rows where 'GST_ActivityID' contains 'GST':\")\n",
    "pretty_table = PrettyTable()\n",
    "pretty_table.field_names = list(expanded_df.columns)\n",
    "\n",
    "for row in expanded_df.head().itertuples(index=False):\n",
    "    pretty_table.add_row(list(row))\n",
    "\n",
    "print(pretty_table)"
   ]
  },
  {
   "cell_type": "markdown",
   "metadata": {},
   "source": [
    "### GST Data"
   ]
  },
  {
   "cell_type": "code",
   "execution_count": 67,
   "metadata": {},
   "outputs": [
    {
     "name": "stdout",
     "output_type": "stream",
     "text": [
      "GST Query URL: https://api.nasa.gov/DONKI/GST?startDate=2013-05-01&endDate=2024-05-01&api_key=xV9MOc6zaRwpUFMt1TrYB62R6GtI5eh5WxJkJYbt\n"
     ]
    }
   ],
   "source": [
    "# Set the base URL to NASA's DONKI API:\n",
    "base_url = \"https://api.nasa.gov/DONKI/\"\n",
    "\n",
    "# Set the specifier for Geomagnetic Storms (GST):\n",
    "GST = \"GST\"\n",
    "\n",
    "# Search for GSTs between a begin and end date\n",
    "startDate = \"2013-05-01\"\n",
    "endDate   = \"2024-05-01\"\n",
    "\n",
    "# Build URL for GST\n",
    "gst_query_url = f\"{base_url}{GST}?startDate={startDate}&endDate={endDate}&api_key={api_key}\"\n",
    "print(\"GST Query URL:\", gst_query_url)\n"
   ]
  },
  {
   "cell_type": "code",
   "execution_count": 68,
   "metadata": {},
   "outputs": [
    {
     "name": "stdout",
     "output_type": "stream",
     "text": [
      "Status Code 200\n",
      "\n",
      "GST Response Object: <Response [200]>\n"
     ]
    }
   ],
   "source": [
    "# Make a \"GET\" request for the GST URL and store it in a variable named gst_response\n",
    "get_response = requests.get(gst_query_url)\n",
    "print(\"Status Code\", get_response.status_code)\n",
    "print(\"\\nGST Response Object:\", get_response)"
   ]
  },
  {
   "cell_type": "code",
   "execution_count": 76,
   "metadata": {},
   "outputs": [
    {
     "name": "stdout",
     "output_type": "stream",
     "text": [
      "Status Code: 200\n",
      "\n",
      "Preview of GST JSON data:\n",
      "[\n",
      "    {\n",
      "        \"gstID\": \"2013-06-01T01:00:00-GST-001\",\n",
      "        \"startTime\": \"2013-06-01T01:00Z\",\n",
      "        \"allKpIndex\": [\n",
      "            {\n",
      "                \"observedTime\": \"2013-06-01T01:00Z\",\n",
      "                \"kpIndex\": 6.0,\n",
      "                \"source\": \"NOAA\"\n",
      "            }\n",
      "        ],\n",
      "        \"link\": \"https://webtools.ccmc.gsfc.nasa.gov/DONKI/view/GST/326/-1\",\n",
      "        \"linkedEvents\": [\n",
      "            {\n",
      "                \"activityID\": \"2013-05-31T15:45:00-HSS-001\"\n",
      "            }\n",
      "        ],\n",
      "        \"submissionTime\": \"2013-07-15T19:26Z\",\n",
      "        \"versionId\": 1\n",
      "    },\n",
      "    {\n",
      "        \"gstID\": \"2013-06-07T03:00:00-GST-001\",\n",
      "        \"startTime\": \"2013-06-07T03:00Z\",\n",
      "        \"allKpIndex\": [\n",
      "            {\n",
      "                \"observedTime\": \"2013-06-07T03:00Z\",\n",
      "                \"kpIndex\": 6.0,\n",
      "                \"source\": \"NOAA\"\n",
      "            }\n",
      "        ],\n",
      "        \"link\": \"https://webtools.ccmc.gsfc.nasa.gov/DONKI/view/GST/330/-1\",\n",
      "        \"linkedEvents\": [\n",
      "            {\n",
      "                \"activityID\": \"2013-06-02T20:24:00-CME-001\"\n",
      "            }\n",
      "        ],\n",
      "        \"submissionTime\": \"2013-07-15T19:41Z\",\n",
      "        \"versionId\": 1\n",
      "    }\n",
      "]\n"
     ]
    }
   ],
   "source": [
    "import requests\n",
    "import json\n",
    "import os\n",
    "from dotenv import load_dotenv\n",
    "\n",
    "# Load the NASA_API_KEY from the .env file\n",
    "load_dotenv()\n",
    "api_key = os.getenv('NASA_API_KEY')\n",
    "\n",
    "# Check if API key is loaded correctly\n",
    "if not api_key:\n",
    "    raise ValueError(\"NASA_API_KEY not found. Please check your .env file.\")\n",
    "\n",
    "# Step 1: Set the base URL and parameters for GST\n",
    "base_url = \"https://api.nasa.gov/DONKI/\"\n",
    "GST = \"GST\"\n",
    "startDate = \"2013-05-01\"\n",
    "endDate = \"2024-05-01\"\n",
    "\n",
    "# Step 2: Build the query URL for GST\n",
    "gst_query_url = f\"{base_url}{GST}?startDate={startDate}&endDate={endDate}&api_key={api_key}\"\n",
    "\n",
    "# Step 3: Make a \"GET\" request for the GST URL and store it in a variable named gst_response\n",
    "gst_response = requests.get(gst_query_url)\n",
    "\n",
    "# Print the status code to verify if the request was successful\n",
    "print(\"Status Code:\", gst_response.status_code)\n",
    "\n",
    "# Step 4: Convert the response variable to JSON and store it as a variable named gst_json\n",
    "if gst_response.status_code == 200:\n",
    "    gst_json = gst_response.json()\n",
    "\n",
    "    # Preview the first result in JSON format\n",
    "    print(\"\\nPreview of GST JSON data:\")\n",
    "    print(json.dumps(gst_json[:2], indent=4))  # Print the first two items to preview the structure\n",
    "else:\n",
    "    print(f\"Error: Request failed with status code {gst_response.status_code}\")\n",
    "\n"
   ]
  },
  {
   "cell_type": "code",
   "execution_count": 81,
   "metadata": {},
   "outputs": [
    {
     "name": "stdout",
     "output_type": "stream",
     "text": [
      "\n",
      "GST DataFrame after keeping only required columns:\n",
      "                         gstID          startTime  \\\n",
      "0  2013-06-01T01:00:00-GST-001  2013-06-01T01:00Z   \n",
      "1  2013-06-07T03:00:00-GST-001  2013-06-07T03:00Z   \n",
      "2  2013-06-29T03:00:00-GST-001  2013-06-29T03:00Z   \n",
      "3  2013-10-02T03:00:00-GST-001  2013-10-02T03:00Z   \n",
      "4  2013-12-08T00:00:00-GST-001  2013-12-08T00:00Z   \n",
      "\n",
      "                                        linkedEvents  \n",
      "0    [{'activityID': '2013-05-31T15:45:00-HSS-001'}]  \n",
      "1    [{'activityID': '2013-06-02T20:24:00-CME-001'}]  \n",
      "2                                               None  \n",
      "3  [{'activityID': '2013-09-29T22:40:00-CME-001'}...  \n",
      "4  [{'activityID': '2013-12-04T23:12:00-CME-001'}...  \n"
     ]
    }
   ],
   "source": [
    "# Convert gst_json to a Pandas DataFrame  \n",
    "gst_df = pd.DataFrame(gst_json)\n",
    "# Keep only the columns: activityID, startTime, linkedEvents\n",
    "required_columns = ['gstID', 'startTime', 'linkedEvents']\n",
    "# Checking Columns \n",
    "missing_columns = [col for col in required_columns if col not in gst_df.columns]\n",
    "if missing_columns:\n",
    "    raise KeyError(f\"One or more required columns are missing from the data: {missing_columns}\")\n",
    "\n",
    "# Required Columns\n",
    "gst_df = gst_df[required_columns]\n",
    "\n",
    "# Rows Displayed\n",
    "print(\"\\nGST DataFrame after keeping only required columns:\")\n",
    "print(gst_df.head())"
   ]
  },
  {
   "cell_type": "code",
   "execution_count": 82,
   "metadata": {},
   "outputs": [
    {
     "name": "stdout",
     "output_type": "stream",
     "text": [
      "\n",
      "GST DataFrame after removing rows with missing 'linked_events':\n",
      "                         gstID          startTime  \\\n",
      "0  2013-06-01T01:00:00-GST-001  2013-06-01T01:00Z   \n",
      "1  2013-06-07T03:00:00-GST-001  2013-06-07T03:00Z   \n",
      "3  2013-10-02T03:00:00-GST-001  2013-10-02T03:00Z   \n",
      "4  2013-12-08T00:00:00-GST-001  2013-12-08T00:00Z   \n",
      "5  2014-02-19T03:00:00-GST-001  2014-02-19T03:00Z   \n",
      "\n",
      "                                        linkedEvents  \n",
      "0    [{'activityID': '2013-05-31T15:45:00-HSS-001'}]  \n",
      "1    [{'activityID': '2013-06-02T20:24:00-CME-001'}]  \n",
      "3  [{'activityID': '2013-09-29T22:40:00-CME-001'}...  \n",
      "4  [{'activityID': '2013-12-04T23:12:00-CME-001'}...  \n",
      "5  [{'activityID': '2014-02-16T14:15:00-CME-001'}...  \n"
     ]
    }
   ],
   "source": [
    "# Notice that the linkedEvents column allows us to identify the corresponding CME\n",
    "# Remove rows with missing 'linkedEvents' since we won't be able to assign these to CME\n",
    "gst_df = gst_df.dropna(subset=['linkedEvents'])\n",
    "\n",
    "print(\"\\nGST DataFrame after removing rows with missing 'linked_events':\")\n",
    "print(gst_df.head())"
   ]
  },
  {
   "cell_type": "code",
   "execution_count": 83,
   "metadata": {},
   "outputs": [
    {
     "name": "stdout",
     "output_type": "stream",
     "text": [
      "\n",
      "GST DataFrame after exploding 'linkedEvents' into individual rows:\n",
      "                         gstID          startTime  \\\n",
      "0  2013-06-01T01:00:00-GST-001  2013-06-01T01:00Z   \n",
      "1  2013-06-07T03:00:00-GST-001  2013-06-07T03:00Z   \n",
      "2  2013-10-02T03:00:00-GST-001  2013-10-02T03:00Z   \n",
      "3  2013-10-02T03:00:00-GST-001  2013-10-02T03:00Z   \n",
      "4  2013-10-02T03:00:00-GST-001  2013-10-02T03:00Z   \n",
      "\n",
      "                                    linkedEvents  \n",
      "0  {'activityID': '2013-05-31T15:45:00-HSS-001'}  \n",
      "1  {'activityID': '2013-06-02T20:24:00-CME-001'}  \n",
      "2  {'activityID': '2013-09-29T22:40:00-CME-001'}  \n",
      "3  {'activityID': '2013-10-02T01:54:00-IPS-001'}  \n",
      "4  {'activityID': '2013-10-02T02:47:00-MPC-001'}  \n"
     ]
    }
   ],
   "source": [
    "# Notice that the linkedEvents sometimes contains multiple events per row\n",
    "gst_df['linkedEvents'] = gst_df['linkedEvents'].apply(lambda x: x if isinstance(x, list) else [x])\n",
    "gst_df = gst_df.explode('linkedEvents').reset_index(drop=True)\n",
    "# Use the explode method to ensure that each row is one element. Ensure to reset the index and drop missing values.\n",
    "gst_df = gst_df.dropna(subset=['linkedEvents'])\n",
    "\n",
    "print(\"\\nGST DataFrame after exploding 'linkedEvents' into individual rows:\")\n",
    "print(gst_df.head())"
   ]
  },
  {
   "cell_type": "code",
   "execution_count": 87,
   "metadata": {},
   "outputs": [
    {
     "name": "stdout",
     "output_type": "stream",
     "text": [
      "\n",
      "GST DataFrame after applying 'extract_activityID_from_dict' and removing missing 'CME_ActivityID':\n",
      "                         gstID          startTime  \\\n",
      "0  2013-06-01T01:00:00-GST-001  2013-06-01T01:00Z   \n",
      "1  2013-06-07T03:00:00-GST-001  2013-06-07T03:00Z   \n",
      "2  2013-10-02T03:00:00-GST-001  2013-10-02T03:00Z   \n",
      "3  2013-10-02T03:00:00-GST-001  2013-10-02T03:00Z   \n",
      "4  2013-10-02T03:00:00-GST-001  2013-10-02T03:00Z   \n",
      "\n",
      "                                    linkedEvents               CME_ActivityID  \n",
      "0  {'activityID': '2013-05-31T15:45:00-HSS-001'}  2013-05-31T15:45:00-HSS-001  \n",
      "1  {'activityID': '2013-06-02T20:24:00-CME-001'}  2013-06-02T20:24:00-CME-001  \n",
      "2  {'activityID': '2013-09-29T22:40:00-CME-001'}  2013-09-29T22:40:00-CME-001  \n",
      "3  {'activityID': '2013-10-02T01:54:00-IPS-001'}  2013-10-02T01:54:00-IPS-001  \n",
      "4  {'activityID': '2013-10-02T02:47:00-MPC-001'}  2013-10-02T02:47:00-MPC-001  \n"
     ]
    }
   ],
   "source": [
    "# Apply the extract_activityID_from_dict function to each row in the 'linkedEvents' column (you can use apply() and a lambda function)\n",
    "# and create a new column called 'CME_ActivityID' using loc indexer:\n",
    "\n",
    "# Remove rows with missing CME_ActivityID, since we can't assign them to CMEs:\n",
    "def extract_activityID_from_dict(input_dict):\n",
    "    try:\n",
    "        return input_dict.get('activityID')\n",
    "    except (ValueError, TypeError) as e:\n",
    "        print(f\"Error extracting activityID: {e}\")\n",
    "        return None\n",
    "# Apply the function to each row in 'linkedEvents' column and create a new column called 'CME_ActivityID\n",
    "gst_df ['CME_ActivityID'] = gst_df['linkedEvents'].apply(lambda x: extract_activityID_from_dict(x))\n",
    "# Rows removed with the missing CME_activity ID\n",
    "gst_df = gst_df.dropna(subset=['CME_ActivityID'])\n",
    "# Display DataFrame to verify Changes \n",
    "print(\"\\nGST DataFrame after applying 'extract_activityID_from_dict' and removing missing 'CME_ActivityID':\")\n",
    "print(gst_df.head())"
   ]
  },
  {
   "cell_type": "code",
   "execution_count": 94,
   "metadata": {},
   "outputs": [
    {
     "name": "stdout",
     "output_type": "stream",
     "text": [
      "\n",
      "GST DataFrame after final data cleaning:\n",
      "                         gstID      startTime_GST  \\\n",
      "0  2013-06-01T01:00:00-GST-001  2013-06-01T01:00Z   \n",
      "1  2013-06-07T03:00:00-GST-001  2013-06-07T03:00Z   \n",
      "2  2013-10-02T03:00:00-GST-001  2013-10-02T03:00Z   \n",
      "3  2013-10-02T03:00:00-GST-001  2013-10-02T03:00Z   \n",
      "4  2013-10-02T03:00:00-GST-001  2013-10-02T03:00Z   \n",
      "\n",
      "                CME_ActivityID             startTime_GST  \n",
      "0  2013-05-31T15:45:00-HSS-001 2013-06-01 01:00:00+00:00  \n",
      "1  2013-06-02T20:24:00-CME-001 2013-06-07 03:00:00+00:00  \n",
      "2  2013-09-29T22:40:00-CME-001 2013-10-02 03:00:00+00:00  \n",
      "3  2013-10-02T01:54:00-IPS-001 2013-10-02 03:00:00+00:00  \n",
      "4  2013-10-02T02:47:00-MPC-001 2013-10-02 03:00:00+00:00  \n"
     ]
    }
   ],
   "source": [
    "# Convert 'CME_ActivityID' to string format\n",
    "gst_df['CME_ActivityID'] = gst_df['CME_ActivityID'].astype(str)\n",
    "\n",
    "# Convert 'gstID' to string format\n",
    "gst_df['gstID'] = gst_df['gstID'].astype(str)\n",
    "\n",
    "# Convert startTime to datetime format if available\n",
    "if 'startTime' in gst_df.columns:\n",
    "    gst_df['startTime_GST'] = pd.to_datetime(gst_df['startTime'], errors='coerce')\n",
    "    # Remove rows with invalid datetime after coercion\n",
    "    gst_df = gst_df.dropna(subset=['startTime_GST'])\n",
    "\n",
    "# Drop linkedEvents\n",
    "if 'linkedEvents' in gst_df.columns:\n",
    "    gst_df = gst_df.drop(columns=['linkedEvents'])\n",
    "\n",
    "# Verify the resulting DataFrame\n",
    "print(\"\\nGST DataFrame after final data cleaning:\")\n",
    "print(gst_df.head())\n"
   ]
  },
  {
   "cell_type": "code",
   "execution_count": 95,
   "metadata": {},
   "outputs": [],
   "source": [
    "# We are only interested in GSTs related to CMEs so keep only rows where the CME_ActivityID column contains 'CME'\n",
    "# use the method 'contains()' from the str library.  \n",
    "if 'CME_ActivityID' in gst_df.columns:\n",
    "    gst_df = gst_df[gst_df['CME_ActivityID'].str.contains('CME')]"
   ]
  },
  {
   "cell_type": "markdown",
   "metadata": {},
   "source": [
    "### Merge both datatsets"
   ]
  },
  {
   "cell_type": "code",
   "execution_count": 101,
   "metadata": {},
   "outputs": [
    {
     "name": "stdout",
     "output_type": "stream",
     "text": [
      "\n",
      "Merged DataFrame containing GST and CME data:\n",
      "                         gstID      startTime_GST  \\\n",
      "0  2013-06-07T03:00:00-GST-001  2013-06-07T03:00Z   \n",
      "1  2013-10-02T03:00:00-GST-001  2013-10-02T03:00Z   \n",
      "2  2013-12-08T00:00:00-GST-001  2013-12-08T00:00Z   \n",
      "3  2014-02-19T03:00:00-GST-001  2014-02-19T03:00Z   \n",
      "4  2014-02-20T03:00:00-GST-001  2014-02-20T03:00Z   \n",
      "\n",
      "                CME_ActivityID                        cmeID  \\\n",
      "0  2013-06-02T20:24:00-CME-001  2013-06-02T20:24:00-CME-001   \n",
      "1  2013-09-29T22:40:00-CME-001  2013-09-29T22:40:00-CME-001   \n",
      "2  2013-12-04T23:12:00-CME-001  2013-12-04T23:12:00-CME-001   \n",
      "3  2014-02-16T14:15:00-CME-001  2014-02-16T14:15:00-CME-001   \n",
      "4  2014-02-18T01:25:00-CME-001  2014-02-18T01:25:00-CME-001   \n",
      "\n",
      "              startTime_CME               GST_ActivityID  \n",
      "0 2013-06-02 20:24:00+00:00  2013-06-07T03:00:00-GST-001  \n",
      "1 2013-09-29 22:40:00+00:00  2013-10-02T03:00:00-GST-001  \n",
      "2 2013-12-04 23:12:00+00:00  2013-12-08T00:00:00-GST-001  \n",
      "3 2014-02-16 14:15:00+00:00  2014-02-19T03:00:00-GST-001  \n",
      "4 2014-02-18 01:25:00+00:00  2014-02-20T03:00:00-GST-001  \n"
     ]
    }
   ],
   "source": [
    "# Now merge both datasets using 'gstID' and 'CME_ActivityID' for gst and 'GST_ActivityID' and 'cmeID' for cme. Use the 'left_on' and 'right_on' specifiers.\n",
    "merged_df = pd.merge(gst_df, expanded_df, left_on=['gstID', 'CME_ActivityID'], right_on=['GST_ActivityID', 'cmeID'], how='inner')\n",
    "\n",
    "# Drop duplicate merged DataFrame\n",
    "merged_df = merged_df.loc[:, ~merged_df.columns.duplicated()]\n",
    "\n",
    "print(\"\\nMerged DataFrame containing GST and CME data:\")\n",
    "print(merged_df.head())"
   ]
  },
  {
   "cell_type": "code",
   "execution_count": 102,
   "metadata": {},
   "outputs": [
    {
     "name": "stdout",
     "output_type": "stream",
     "text": [
      "Number of rows in CME DataFrame: 61\n",
      "Number of rows in GST DataFrame: 61\n",
      "Number of rows in Merged DataFrame: 61\n"
     ]
    }
   ],
   "source": [
    "# Verify that the new DataFrame has the same number of rows as cme and gst\n",
    "print(f\"Number of rows in CME DataFrame: {len(expanded_df)}\")\n",
    "print(f\"Number of rows in GST DataFrame: {len(gst_df)}\")\n",
    "print(f\"Number of rows in Merged DataFrame: {len(merged_df)}\")"
   ]
  },
  {
   "cell_type": "markdown",
   "metadata": {},
   "source": [
    "### Computing the time it takes for a CME to cause a GST"
   ]
  },
  {
   "cell_type": "code",
   "execution_count": 105,
   "metadata": {},
   "outputs": [
    {
     "name": "stdout",
     "output_type": "stream",
     "text": [
      "\n",
      "Merged DataFrame with time difference:\n",
      "                         gstID             startTime_GST  \\\n",
      "0  2013-06-07T03:00:00-GST-001 2013-06-07 03:00:00+00:00   \n",
      "1  2013-10-02T03:00:00-GST-001 2013-10-02 03:00:00+00:00   \n",
      "2  2013-12-08T00:00:00-GST-001 2013-12-08 00:00:00+00:00   \n",
      "3  2014-02-19T03:00:00-GST-001 2014-02-19 03:00:00+00:00   \n",
      "4  2014-02-20T03:00:00-GST-001 2014-02-20 03:00:00+00:00   \n",
      "\n",
      "                CME_ActivityID                        cmeID  \\\n",
      "0  2013-06-02T20:24:00-CME-001  2013-06-02T20:24:00-CME-001   \n",
      "1  2013-09-29T22:40:00-CME-001  2013-09-29T22:40:00-CME-001   \n",
      "2  2013-12-04T23:12:00-CME-001  2013-12-04T23:12:00-CME-001   \n",
      "3  2014-02-16T14:15:00-CME-001  2014-02-16T14:15:00-CME-001   \n",
      "4  2014-02-18T01:25:00-CME-001  2014-02-18T01:25:00-CME-001   \n",
      "\n",
      "              startTime_CME               GST_ActivityID        timeDiff  \n",
      "0 2013-06-02 20:24:00+00:00  2013-06-07T03:00:00-GST-001 4 days 06:36:00  \n",
      "1 2013-09-29 22:40:00+00:00  2013-10-02T03:00:00-GST-001 2 days 04:20:00  \n",
      "2 2013-12-04 23:12:00+00:00  2013-12-08T00:00:00-GST-001 3 days 00:48:00  \n",
      "3 2014-02-16 14:15:00+00:00  2014-02-19T03:00:00-GST-001 2 days 12:45:00  \n",
      "4 2014-02-18 01:25:00+00:00  2014-02-20T03:00:00-GST-001 2 days 01:35:00  \n"
     ]
    }
   ],
   "source": [
    "# Compute the time diff between startTime_GST and startTime_CME by creating a new column called `timeDiff`\n",
    "merged_df['startTime_GST'] = pd.to_datetime(merged_df['startTime_GST'], errors='coerce')\n",
    "merged_df['startTime_CME'] = pd.to_datetime(merged_df['startTime_CME'], errors='coerce')\n",
    "merged_df['timeDiff'] = (merged_df['startTime_GST'] - merged_df['startTime_CME']).abs()\n",
    "\n",
    "# Verify the updated DataFrame\n",
    "print(\"\\nMerged DataFrame with time difference:\")\n",
    "print(merged_df.head())"
   ]
  },
  {
   "cell_type": "code",
   "execution_count": 107,
   "metadata": {},
   "outputs": [
    {
     "name": "stdout",
     "output_type": "stream",
     "text": [
      "\n",
      "Statistics for time difference between CME and GST:\n",
      "count                           61\n",
      "mean     2 days 23:29:26.557377049\n",
      "std      0 days 23:53:09.336914240\n",
      "min                1 days 08:36:00\n",
      "25%                2 days 04:00:00\n",
      "50%                2 days 19:51:00\n",
      "75%                3 days 13:35:00\n",
      "max                6 days 03:00:00\n",
      "Name: timeDiff, dtype: object\n",
      "\n",
      "Mean time difference: 2 days 23:29:26.557377049\n",
      "Median time difference: 2 days 19:51:00\n"
     ]
    }
   ],
   "source": [
    "# Use describe() to compute the mean and median time \n",
    "# that it takes for a CME to cause a GST. \n",
    "print(\"\\nStatistics for time difference between CME and GST:\")\n",
    "time_diff_stats = merged_df['timeDiff'].describe()\n",
    "print(time_diff_stats)\n",
    "\n",
    "mean_time_diff = time_diff_stats['mean']\n",
    "median_time_diff = merged_df['timeDiff'].median()\n",
    "print(f\"\\nMean time difference: {mean_time_diff}\")\n",
    "print(f\"Median time difference: {median_time_diff}\")"
   ]
  },
  {
   "cell_type": "markdown",
   "metadata": {},
   "source": [
    "### Exporting data in csv format"
   ]
  },
  {
   "cell_type": "code",
   "execution_count": 108,
   "metadata": {},
   "outputs": [
    {
     "name": "stdout",
     "output_type": "stream",
     "text": [
      "\n",
      "Merged DataFrame exported to 'merged_gst_cme_data.csv'\n"
     ]
    }
   ],
   "source": [
    "# Export data to CSV without the index\n",
    "merged_df.to_csv('merged_gst_cme_data.csv', index=False)\n",
    "print(\"\\nMerged DataFrame exported to 'merged_gst_cme_data.csv'\")\n"
   ]
  }
 ],
 "metadata": {
  "kernelspec": {
   "display_name": "Python 3 (ipykernel)",
   "language": "python",
   "name": "python3"
  },
  "language_info": {
   "codemirror_mode": {
    "name": "ipython",
    "version": 3
   },
   "file_extension": ".py",
   "mimetype": "text/x-python",
   "name": "python",
   "nbconvert_exporter": "python",
   "pygments_lexer": "ipython3",
   "version": "3.12.2"
  },
  "varInspector": {
   "cols": {
    "lenName": 16,
    "lenType": 16,
    "lenVar": 40
   },
   "kernels_config": {
    "python": {
     "delete_cmd_postfix": "",
     "delete_cmd_prefix": "del ",
     "library": "var_list.py",
     "varRefreshCmd": "print(var_dic_list())"
    },
    "r": {
     "delete_cmd_postfix": ") ",
     "delete_cmd_prefix": "rm(",
     "library": "var_list.r",
     "varRefreshCmd": "cat(var_dic_list()) "
    }
   },
   "types_to_exclude": [
    "module",
    "function",
    "builtin_function_or_method",
    "instance",
    "_Feature"
   ],
   "window_display": false
  }
 },
 "nbformat": 4,
 "nbformat_minor": 4
}
